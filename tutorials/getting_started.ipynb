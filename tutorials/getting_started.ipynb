{
 "cells": [
  {
   "cell_type": "markdown",
   "metadata": {},
   "source": [
    "# Getting started with Excimontec\n",
    "This jupyter notebook will give a brief introduction to running Lattice Simulations of Organic Photovoltaics using Excimontec."
   ]
  },
  {
   "cell_type": "markdown",
   "metadata": {},
   "source": [
    "# Installation Instructions \n",
    "From the command line run \\\n",
    "\\\n",
    "```git clone --recurse-submodules https://github.com/bennm37/Excimontec.git```\\\n",
    "\\\n",
    "This will install my fork of Excimontec and the submodule, KMC_Lattice which it is based on. Presuambly this step is completed if you're reading this document.\n",
    "## Building and testing Excimontec\n",
    "When first using Excimontec on your computer, you should build and run the test suite to make sure\n",
    "everything is working correctly. Set the Excimontec directory as the current working directory,\\\n",
    "\\\n",
    "```cd Excimontec```\\\n",
    "\\\n",
    "and then use GNU Make to build the test executable.\\\n",
    "\\\n",
    "```make test```\\\n",
    "\\\n",
    "Once the build is complete, run the test suite\\\n",
    "\\\n",
    "```./test/Excimontec_tests.exe```\\\n",
    "\\\n",
    "If there are no test errors, build the main executable.\\\n",
    "\\\n",
    "```make```\\\n",
    "\\\n",
    "If everything builds correctly, you can run a simple test using the default parameters.\\\n",
    "\\\n",
    "```mpiexec -n 4 Excimontec.exe parameters_default.txt```\\\n",
    "\\\n",
    "This will execute a simple exciton diffusion simulation test, and when it finishes several output files\n",
    "will be created in the project directory. You can quickly check the results in the analysis summary file\n",
    "with the command\\\n",
    "\\\n",
    "```cat analysis_summary.txt```\\\n",
    "\\\n",
    "The default parameters should produce an exciton diffusion length of approximately 24 nm."
   ]
  },
  {
   "cell_type": "markdown",
   "metadata": {},
   "source": [
    "## Building and testing the Python Interface\n",
    "From Excimontec, navigate into the interface folder\\\n",
    "\\\n",
    "```cd interface```\\\n",
    "\\\n",
    "Befor installing we need to tell the python inteface where the Excimontec folder is. Open interface/exm/inter.py and change the ```EXMPATH``` variable to the full path of the Excimontec folder on your device. For me this is \"/Users/benn-m/Documents/Code/Solar_Software/developing_Exm/Excimontec\".\\\n",
    "Use pip to install wheel. You may need to use `python3 -m pip` instead of `pip`. To install for a specific version ```python3.X``` use ```python3.X pip install```. \\\n",
    "\\\n",
    "```pip install wheel```\\\n",
    "\\\n",
    "Then pip install the exm module using\\\n",
    "\\\n",
    "```pip install .```\\\n",
    "\\\n",
    "This should install the module so that we can import it from anywhere. Try running the cell with ```import exm```. \\\n",
    "\\\n",
    "Alternatively, run the cells below to install the python module from this notebook!\n",
    "\n",
    "## Trouble Shooting\n",
    "If  ``` pip install .``` runs, but ```import exm``` returns ```ModuleNotFoundError```, the most likely problem is that your machine has multiple different versions of python, and has installed it in one and is running this notebook in another. Try switching the interpreter with which you're running this notebook. "
   ]
  },
  {
   "cell_type": "code",
   "execution_count": null,
   "metadata": {},
   "outputs": [],
   "source": [
    "# Should end with /Excimontec. If not use %cd to navigate\n",
    "%pwd"
   ]
  },
  {
   "cell_type": "code",
   "execution_count": null,
   "metadata": {},
   "outputs": [],
   "source": [
    "# Navigates to interface folder and builds the module\n",
    "%cd interface\n",
    "!pip install wheel\n",
    "!pip install .\n",
    "%cd .."
   ]
  },
  {
   "cell_type": "code",
   "execution_count": 1,
   "metadata": {},
   "outputs": [],
   "source": [
    "# Testing\n",
    "import exm "
   ]
  },
  {
   "cell_type": "markdown",
   "metadata": {},
   "source": [
    "## Running the Default Parameters with Python\n",
    "Below is a simple example of how to run the default parameters using the python interface. If it says FileNotFoundError, try restarting the kernel which should reset the current working directory to this notebook."
   ]
  },
  {
   "cell_type": "code",
   "execution_count": 5,
   "metadata": {},
   "outputs": [
    {
     "data": {
      "text/plain": [
       "'/Users/benn-m/Documents/Code/Solar_Software/developing_Exm/Excimontec/tutorials/data'"
      ]
     },
     "execution_count": 5,
     "metadata": {},
     "output_type": "execute_result"
    }
   ],
   "source": [
    "%pwd"
   ]
  },
  {
   "cell_type": "code",
   "execution_count": 4,
   "metadata": {},
   "outputs": [
    {
     "data": {
      "text/plain": [
       "'/Users/benn-m/Documents/Code/Solar_Software/developing_Exm/Excimontec/tutorials/data'"
      ]
     },
     "execution_count": 4,
     "metadata": {},
     "output_type": "execute_result"
    }
   ],
   "source": [
    "%pwd"
   ]
  },
  {
   "cell_type": "code",
   "execution_count": 1,
   "metadata": {},
   "outputs": [
    {
     "name": "stdout",
     "output_type": "stream",
     "text": [
      "Found Default\n",
      "/Users/benn-m/Documents/Code/Solar_Software/developing_Exm/Excimontec/tutorials/data/first_project_0\n",
      "args='mpiexec -n 4 /Users/benn-m/Documents/Code/Solar_Software/developing_Exm/Excimontec/Excimontec.exe ./parameters.txt'\n",
      "Loading input parameters from file... \n",
      "Loading input parameters from file... \n",
      "Loading input parameters from file... \n",
      "Parameter loading complete!\n",
      "Parameter loading complete!\n",
      "Loading input parameters from file... \n",
      "Parameter loading complete!\n",
      "Parameter loading complete!\n",
      "Initializing MPI options... 0: MPI initialization complete!\n",
      "0: Creating output files...\n",
      "0: Initializing simulation 0...\n",
      "Initializing MPI options... 0: MPI initialization complete!\n",
      "0: Creating output files...\n",
      "0: Initializing simulation 0...\n",
      "Initializing MPI options... 0: MPI initialization complete!\n",
      "0: Creating output files...\n",
      "0: Initializing simulation 0...\n",
      "Initializing MPI options... 0: MPI initialization complete!\n",
      "0: Creating output files...\n",
      "0: Initializing simulation 0...\n",
      "0: Simulation initialization complete\n",
      "0: Starting exciton diffusion test...\n",
      "0: Simulation initialization complete\n",
      "0: Starting exciton diffusion test...\n",
      "0: Simulation initialization complete\n",
      "0: Starting exciton diffusion test...\n",
      "0: Simulation initialization complete\n",
      "0: Starting exciton diffusion test...\n",
      "0: Simulation finished.\n",
      "0: Simulation finished.\n",
      "0: Simulation finished.\n",
      "0: Simulation finished.\n"
     ]
    }
   ],
   "source": [
    "\n",
    "from exm.inter import *\n",
    "p_name = \"data/first_project\"\n",
    "# f_names = [\"test_0\"]\n",
    "p = Project(p_name,[{}],overwrite=False) # should print 'Found Default'\n",
    "p.run()\n"
   ]
  }
 ],
 "metadata": {
  "interpreter": {
   "hash": "2c20910270e4c5f8f6c5e7eb4456032003685c821535559554e6a93aefd5a19c"
  },
  "kernelspec": {
   "display_name": "Python 3.9.12 ('base')",
   "language": "python",
   "name": "python3"
  },
  "language_info": {
   "codemirror_mode": {
    "name": "ipython",
    "version": 3
   },
   "file_extension": ".py",
   "mimetype": "text/x-python",
   "name": "python",
   "nbconvert_exporter": "python",
   "pygments_lexer": "ipython3",
   "version": "3.9.12"
  },
  "orig_nbformat": 4
 },
 "nbformat": 4,
 "nbformat_minor": 2
}
