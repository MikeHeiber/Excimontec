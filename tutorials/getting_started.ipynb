{
 "cells": [
  {
   "cell_type": "markdown",
   "metadata": {},
   "source": [
    "# Getting started with Excimontec\n",
    "This jupyter notebook will give a brief introduction to running Lattice Simulations of Organic Photovoltaics using Excimontec."
   ]
  },
  {
   "cell_type": "markdown",
   "metadata": {},
   "source": [
    "# Installation Instructions \n",
    "From the command line run \\\n",
    "\\\n",
    "```git clone --recurse-submodules https://github.com/bennm37/Excimontec.git```\\\n",
    "\\\n",
    "This will install my fork of Excimontec and the submodule, KMC_Lattice which it is based on. Presuambly this step is completed if you're reading this document.\n",
    "## Building and testing Excimontec\n",
    "When first using Excimontec on your computer, you should build and run the test suite to make sure\n",
    "everything is working correctly. Set the Excimontec directory as the current working directory,\\\n",
    "\\\n",
    "```cd Excimontec```\\\n",
    "\\\n",
    "and then use GNU Make to build the test executable.\\\n",
    "\\\n",
    "```make test```\\\n",
    "\\\n",
    "Once the build is complete, run the test suite\\\n",
    "\\\n",
    "```./test/Excimontec_tests.exe```\\\n",
    "\\\n",
    "If there are no test errors, build the main executable.\\\n",
    "\\\n",
    "```make```\\\n",
    "\\\n",
    "If everything builds correctly, you can run a simple test using the default parameters.\\\n",
    "\\\n",
    "```mpiexec -n 4 Excimontec.exe parameters_default.txt```\\\n",
    "\\\n",
    "This will execute a simple exciton diffusion simulation test, and when it finishes several output files\n",
    "will be created in the project directory. You can quickly check the results in the analysis summary file\n",
    "with the command\\\n",
    "\\\n",
    "```cat analysis_summary.txt```\\\n",
    "\\\n",
    "The default parameters should produce an exciton diffusion length of approximately 24 nm."
   ]
  },
  {
   "cell_type": "markdown",
   "metadata": {},
   "source": [
    "## Building and testing the Python Interface\n",
    "From Excimontec, navigate into the interface folder\\\n",
    "\\\n",
    "```cd interface```\\\n",
    "\\\n",
    "Befor installing we need to tell the python inteface where the Excimontec folder is. Open interface/exm/inter.py and change the ```EXMPATH``` variable to the full path of the Excimontec folder on your device. For me this is \"/Users/benn-m/Documents/Code/Solar_Software/developing_Exm/Excimontec\".\\\n",
    "Use pip to install wheel. You may need to use `python3 -m pip` instead of `pip`. To install for a specific version ```python3.X``` use ```python3.X pip install```. \\\n",
    "\\\n",
    "```pip install wheel```\\\n",
    "\\\n",
    "Then pip install the exm module using\\\n",
    "\\\n",
    "```pip install .```\\\n",
    "\\\n",
    "This should install the module so that we can import it from anywhere. Try running the cell with ```import exm```. \\\n",
    "\\\n",
    "Alternatively, run the cells below to install the python module from this notebook!\n",
    "\n",
    "## Trouble Shooting\n",
    "If  ``` pip install .``` runs, but ```import exm``` returns ```ModuleNotFoundError```, the most likely problem is that your machine has multiple different versions of python, and has installed it in one and is running this notebook in another. Try switching the interpreter with which you're running this notebook. "
   ]
  },
  {
   "cell_type": "code",
   "execution_count": 1,
   "metadata": {},
   "outputs": [
    {
     "data": {
      "text/plain": [
       "'/Users/benn-m/Documents/Code/Solar_Software/developing_Exm/Excimontec/tutorials'"
      ]
     },
     "execution_count": 1,
     "metadata": {},
     "output_type": "execute_result"
    }
   ],
   "source": [
    "# Should end with /tutorials. If not use %cd to navigate\n",
    "%pwd"
   ]
  },
  {
   "cell_type": "code",
   "execution_count": 3,
   "metadata": {},
   "outputs": [
    {
     "name": "stdout",
     "output_type": "stream",
     "text": [
      "/Users/benn-m/Documents/Code/Solar_Software/developing_Exm/Excimontec\n",
      "/Users/benn-m/Documents/Code/Solar_Software/developing_Exm/Excimontec/interface\n",
      "Requirement already satisfied: wheel in /Users/benn-m/Documents/Code/Solar_Software/developing_Exm/Excimontec/venv/lib/python3.9/site-packages (0.37.1)\n",
      "Processing /Users/benn-m/Documents/Code/Solar_Software/developing_Exm/Excimontec/interface\n",
      "  Preparing metadata (setup.py) ... \u001b[?25ldone\n",
      "\u001b[?25hRequirement already satisfied: numpy in /Users/benn-m/Documents/Code/Solar_Software/developing_Exm/Excimontec/venv/lib/python3.9/site-packages (from exm==0.1) (1.23.3)\n",
      "Requirement already satisfied: matplotlib in /Users/benn-m/Documents/Code/Solar_Software/developing_Exm/Excimontec/venv/lib/python3.9/site-packages (from exm==0.1) (3.6.0)\n",
      "Requirement already satisfied: pandas in /Users/benn-m/Documents/Code/Solar_Software/developing_Exm/Excimontec/venv/lib/python3.9/site-packages (from exm==0.1) (1.5.0)\n",
      "Requirement already satisfied: packaging>=20.0 in /Users/benn-m/Documents/Code/Solar_Software/developing_Exm/Excimontec/venv/lib/python3.9/site-packages (from matplotlib->exm==0.1) (21.3)\n",
      "Requirement already satisfied: pillow>=6.2.0 in /Users/benn-m/Documents/Code/Solar_Software/developing_Exm/Excimontec/venv/lib/python3.9/site-packages (from matplotlib->exm==0.1) (9.2.0)\n",
      "Requirement already satisfied: python-dateutil>=2.7 in /Users/benn-m/Documents/Code/Solar_Software/developing_Exm/Excimontec/venv/lib/python3.9/site-packages (from matplotlib->exm==0.1) (2.8.2)\n",
      "Requirement already satisfied: contourpy>=1.0.1 in /Users/benn-m/Documents/Code/Solar_Software/developing_Exm/Excimontec/venv/lib/python3.9/site-packages (from matplotlib->exm==0.1) (1.0.5)\n",
      "Requirement already satisfied: fonttools>=4.22.0 in /Users/benn-m/Documents/Code/Solar_Software/developing_Exm/Excimontec/venv/lib/python3.9/site-packages (from matplotlib->exm==0.1) (4.37.3)\n",
      "Requirement already satisfied: cycler>=0.10 in /Users/benn-m/Documents/Code/Solar_Software/developing_Exm/Excimontec/venv/lib/python3.9/site-packages (from matplotlib->exm==0.1) (0.11.0)\n",
      "Requirement already satisfied: pyparsing>=2.2.1 in /Users/benn-m/Documents/Code/Solar_Software/developing_Exm/Excimontec/venv/lib/python3.9/site-packages (from matplotlib->exm==0.1) (3.0.9)\n",
      "Requirement already satisfied: kiwisolver>=1.0.1 in /Users/benn-m/Documents/Code/Solar_Software/developing_Exm/Excimontec/venv/lib/python3.9/site-packages (from matplotlib->exm==0.1) (1.4.4)\n",
      "Requirement already satisfied: pytz>=2020.1 in /Users/benn-m/Documents/Code/Solar_Software/developing_Exm/Excimontec/venv/lib/python3.9/site-packages (from pandas->exm==0.1) (2022.2.1)\n",
      "Requirement already satisfied: six>=1.5 in /Users/benn-m/Documents/Code/Solar_Software/developing_Exm/Excimontec/venv/lib/python3.9/site-packages (from python-dateutil>=2.7->matplotlib->exm==0.1) (1.16.0)\n",
      "Building wheels for collected packages: exm\n",
      "  Building wheel for exm (setup.py) ... \u001b[?25ldone\n",
      "\u001b[?25h  Created wheel for exm: filename=exm-0.1-py3-none-any.whl size=5517 sha256=4d94bf23be624d86ad69f088e86141f9eff147d61f1a5ef167b9f880f7c99d8b\n",
      "  Stored in directory: /private/var/folders/f4/ff3z4kt9185_9m1nt9spmzr00000gn/T/pip-ephem-wheel-cache-x2ogq13a/wheels/61/d4/e4/f09d593b93ae238ebae440fc153d4f897c9eff70b43bb70537\n",
      "Successfully built exm\n",
      "Installing collected packages: exm\n",
      "  Attempting uninstall: exm\n",
      "    Found existing installation: exm 0.1\n",
      "    Uninstalling exm-0.1:\n",
      "      Successfully uninstalled exm-0.1\n",
      "Successfully installed exm-0.1\n",
      "/Users/benn-m/Documents/Code/Solar_Software/developing_Exm/Excimontec\n",
      "/Users/benn-m/Documents/Code/Solar_Software/developing_Exm/Excimontec/tutorials\n"
     ]
    }
   ],
   "source": [
    "# Navigates to interface folder and builds the module, then navigates back to tutorials\n",
    "%cd ..\n",
    "%cd interface\n",
    "!pip install wheel\n",
    "!pip install .\n",
    "%cd ..\n",
    "%cd tutorials\n",
    "\n"
   ]
  },
  {
   "cell_type": "code",
   "execution_count": 1,
   "metadata": {},
   "outputs": [],
   "source": [
    "# Testing\n",
    "import exm "
   ]
  },
  {
   "cell_type": "markdown",
   "metadata": {},
   "source": [
    "## Running the Default Parameters with Python\n",
    "Below is a simple example of how to run the default parameters using the python interface. If it says FileNotFoundError, try restarting the kernel which should reset the current working directory to the one this notebook is in."
   ]
  },
  {
   "cell_type": "code",
   "execution_count": 1,
   "metadata": {},
   "outputs": [
    {
     "name": "stdout",
     "output_type": "stream",
     "text": [
      "Found Default\n",
      "args='mpiexec -n 1 /Users/benn-m/Documents/Code/Solar_Software/developing_Exm/Excimontec/Excimontec.exe ./parameters1.txt'\n",
      "Loading input parameters from file... \n",
      "Parameter loading complete!\n",
      "Initializing MPI options... 0: MPI initialization complete!\n",
      "0: Creating output files...\n",
      "0: Initializing simulation 0...\n",
      "0: Simulation initialization complete\n",
      "0: Starting exciton diffusion test...\n",
      "0: Simulation finished.\n"
     ]
    }
   ],
   "source": [
    "from exm.inter import *\n",
    "\n",
    "project_name = \"data/first_project\" # The name of the parent folder\n",
    "folder_names = [\"test_0\"] # The name of each subfolder\n",
    "parameter_dicts = [{}] # This will allow for easy paramter sweeps, empty dictionary is default\n",
    "p = Project(project_name,folder_names,parameter_dicts,overwrite=True) # should print 'Found Default'\n",
    "p.run(cores=1) # Gives detailed running information, should end with '0: Simulation finished.'"
   ]
  },
  {
   "cell_type": "markdown",
   "metadata": {},
   "source": [
    "## Checking the results\n",
    "Go to data/first_project_0 and check out analysis_summary.txt. This should include several summary statistics like the exciton diffussion lenght and mobility. With the default parameters we expect an Exction Diffussion Length of around 24nm although the variance when running with one core will be high. Annoyingly Jupyter seems to be configured to only run on one core, so to make full use of the capabilities of the program you should run from a python script.\n"
   ]
  },
  {
   "cell_type": "code",
   "execution_count": 2,
   "metadata": {},
   "outputs": [
    {
     "name": "stdout",
     "output_type": "stream",
     "text": [
      "The Exciton Diffusion Length was 29.8578 +- 70.4253 nm.\n"
     ]
    }
   ],
   "source": [
    "az = Analyzer(project_name,parameter_dicts,folder_names)\n",
    "edl_0,err_0 = az.exciton_diffusion_length(az.summaries['test_0'])\n",
    "print(f'The Exciton Diffusion Length was {edl_0} +- {err_0} nm.')"
   ]
  },
  {
   "cell_type": "markdown",
   "metadata": {},
   "source": [
    "## Running A Parameter Sweep\n",
    "This python interface makes it easy run simulations whilst changing a single parameter from a default set of parameters (which we can define ourselves). See the example below. Although the code is the same, as mentioned before Jupyter treats parallel processing calls weirdly so I recommend running this from edl_script.py \n"
   ]
  },
  {
   "cell_type": "code",
   "execution_count": 3,
   "metadata": {},
   "outputs": [
    {
     "name": "stdout",
     "output_type": "stream",
     "text": [
      "[0.04 0.05 0.06 0.08 0.09 0.1 ]\n",
      "Found Default\n",
      "Leaving Data Alone.\n"
     ]
    },
    {
     "ename": "FileExistsError",
     "evalue": "",
     "output_type": "error",
     "traceback": [
      "\u001b[0;31m---------------------------------------------------------------------------\u001b[0m",
      "\u001b[0;31mFileExistsError\u001b[0m                           Traceback (most recent call last)",
      "File \u001b[0;32m~/Documents/Code/Solar_Software/developing_Exm/Excimontec/venv/lib/python3.9/site-packages/exm/inter.py:28\u001b[0m, in \u001b[0;36mProject.__init__\u001b[0;34m(self, project_name, folder_names, param_dicts, default_name, overwrite)\u001b[0m\n\u001b[1;32m     <a href='file:///Users/benn-m/Documents/Code/Solar_Software/developing_Exm/Excimontec/venv/lib/python3.9/site-packages/exm/inter.py?line=26'>27</a>\u001b[0m \u001b[39mtry\u001b[39;00m:\n\u001b[0;32m---> <a href='file:///Users/benn-m/Documents/Code/Solar_Software/developing_Exm/Excimontec/venv/lib/python3.9/site-packages/exm/inter.py?line=27'>28</a>\u001b[0m \tos\u001b[39m.\u001b[39;49mmkdir(\u001b[39mf\u001b[39;49m\u001b[39m\"\u001b[39;49m\u001b[39m{\u001b[39;49;00m\u001b[39mself\u001b[39;49m\u001b[39m.\u001b[39;49mproject_name\u001b[39m}\u001b[39;49;00m\u001b[39m\"\u001b[39;49m)\n\u001b[1;32m     <a href='file:///Users/benn-m/Documents/Code/Solar_Software/developing_Exm/Excimontec/venv/lib/python3.9/site-packages/exm/inter.py?line=28'>29</a>\u001b[0m \u001b[39mexcept\u001b[39;00m \u001b[39mFileExistsError\u001b[39;00m:\n",
      "\u001b[0;31mFileExistsError\u001b[0m: [Errno 17] File exists: 'data/exciton_diffusion_parameter_sweep'",
      "\nDuring handling of the above exception, another exception occurred:\n",
      "\u001b[0;31mFileExistsError\u001b[0m                           Traceback (most recent call last)",
      "Cell \u001b[0;32mIn [3], line 7\u001b[0m\n\u001b[1;32m      5\u001b[0m default_parameter_file \u001b[38;5;241m=\u001b[39m \u001b[38;5;124m'\u001b[39m\u001b[38;5;124m./exciton_diffusion_default.txt\u001b[39m\u001b[38;5;124m'\u001b[39m\n\u001b[1;32m      6\u001b[0m parameter_dicts \u001b[38;5;241m=\u001b[39m [{\u001b[38;5;124m'\u001b[39m\u001b[38;5;124mEnergy_stdev_donor\u001b[39m\u001b[38;5;124m'\u001b[39m:val,\u001b[38;5;124m'\u001b[39m\u001b[38;5;124mEnergy_stdev_acceptor\u001b[39m\u001b[38;5;124m'\u001b[39m:val} \u001b[38;5;28;01mfor\u001b[39;00m val \u001b[38;5;129;01min\u001b[39;00m sigmas]\n\u001b[0;32m----> 7\u001b[0m p \u001b[38;5;241m=\u001b[39m Project(project_name,folder_names,parameter_dicts,default_name\u001b[38;5;241m=\u001b[39mdefault_parameter_file)\n",
      "File \u001b[0;32m~/Documents/Code/Solar_Software/developing_Exm/Excimontec/venv/lib/python3.9/site-packages/exm/inter.py:41\u001b[0m, in \u001b[0;36mProject.__init__\u001b[0;34m(self, project_name, folder_names, param_dicts, default_name, overwrite)\u001b[0m\n\u001b[1;32m     <a href='file:///Users/benn-m/Documents/Code/Solar_Software/developing_Exm/Excimontec/venv/lib/python3.9/site-packages/exm/inter.py?line=38'>39</a>\u001b[0m \t\t\u001b[39melse\u001b[39;00m: \n\u001b[1;32m     <a href='file:///Users/benn-m/Documents/Code/Solar_Software/developing_Exm/Excimontec/venv/lib/python3.9/site-packages/exm/inter.py?line=39'>40</a>\u001b[0m \t\t\t\u001b[39mprint\u001b[39m(\u001b[39m'\u001b[39m\u001b[39mLeaving Data Alone.\u001b[39m\u001b[39m'\u001b[39m)\n\u001b[0;32m---> <a href='file:///Users/benn-m/Documents/Code/Solar_Software/developing_Exm/Excimontec/venv/lib/python3.9/site-packages/exm/inter.py?line=40'>41</a>\u001b[0m \t\t\t\u001b[39mraise\u001b[39;00m \u001b[39mFileExistsError\u001b[39;00m\n\u001b[1;32m     <a href='file:///Users/benn-m/Documents/Code/Solar_Software/developing_Exm/Excimontec/venv/lib/python3.9/site-packages/exm/inter.py?line=41'>42</a>\u001b[0m \u001b[39mself\u001b[39m\u001b[39m.\u001b[39mf_names \u001b[39m=\u001b[39m folder_names\n\u001b[1;32m     <a href='file:///Users/benn-m/Documents/Code/Solar_Software/developing_Exm/Excimontec/venv/lib/python3.9/site-packages/exm/inter.py?line=42'>43</a>\u001b[0m \u001b[39mself\u001b[39m\u001b[39m.\u001b[39mn_sim \u001b[39m=\u001b[39m \u001b[39mlen\u001b[39m(param_dicts)\n",
      "\u001b[0;31mFileExistsError\u001b[0m: "
     ]
    }
   ],
   "source": [
    "project_name = \"data/exciton_diffusion_parameter_sweep\"\n",
    "sigmas = np.round(np.linspace(0.04,0.10,6),2)\n",
    "print(sigmas)\n",
    "folder_names = [f'sigma_{val}' for val in sigmas]\n",
    "default_parameter_file = './exciton_diffusion_default.txt'\n",
    "parameter_dicts = [{'Energy_stdev_donor':val,'Energy_stdev_acceptor':val} for val in sigmas]\n",
    "p = Project(project_name,folder_names,parameter_dicts,default_name=default_parameter_file)\n",
    "# p.run(cores =4)"
   ]
  },
  {
   "cell_type": "markdown",
   "metadata": {},
   "source": [
    "## Plotting and Analyzing the Results\n",
    "We can recreate a plot from the user manual by plotting the values of the exciton diffusion length against the standard deviation of the density of states. A similar thing could be done for mobility and temperature dependence with a different type of test."
   ]
  },
  {
   "cell_type": "code",
   "execution_count": 9,
   "metadata": {},
   "outputs": [
    {
     "data": {
      "image/png": "[encoded data removed]",
      "text/plain": [
       "<Figure size 640x480 with 1 Axes>"
      ]
     },
     "metadata": {},
     "output_type": "display_data"
    }
   ],
   "source": [
    "az = Analyzer(project_name,parameter_dicts,folder_names)\n",
    "fig,ax = plt.subplots()\n",
    "ax.set(xlabel='$\\sigma$ (nm)',ylabel = 'Exciton Diffusion Length (nm)',title = 'Parameter Sweep in a 50x50x50 nm OPV.')\n",
    "az.plot_edl(ax) # This function extracts the Exciton Diffusion Length and Error from each summary and plots them using matplotlib"
   ]
  },
  {
   "cell_type": "code",
   "execution_count": null,
   "metadata": {},
   "outputs": [],
   "source": []
  }
 ],
 "metadata": {
  "interpreter": {
   "hash": "64b2c5c85bf8a1d7c6ab1cf5ed134e28f8a173bf3960699aabf8e25191143b9b"
  },
  "kernelspec": {
   "display_name": "Python 3.9.14 ('venv': venv)",
   "language": "python",
   "name": "python3"
  },
  "language_info": {
   "codemirror_mode": {
    "name": "ipython",
    "version": 3
   },
   "file_extension": ".py",
   "mimetype": "text/x-python",
   "name": "python",
   "nbconvert_exporter": "python",
   "pygments_lexer": "ipython3",
   "version": "3.9.14"
  },
  "orig_nbformat": 4
 },
 "nbformat": 4,
 "nbformat_minor": 2
}
